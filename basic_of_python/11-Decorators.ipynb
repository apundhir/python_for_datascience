{
 "cells": [],
 "metadata": {
  "kernelspec": {
   "display_name": "learn_python",
   "language": "python",
   "name": "python3"
  },
  "language_info": {
   "name": "python",
   "version": "3.10.16"
  }
 },
 "nbformat": 4,
 "nbformat_minor": 2
}
